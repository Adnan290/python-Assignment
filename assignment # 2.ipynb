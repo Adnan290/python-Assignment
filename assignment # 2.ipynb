{
 "cells": [
  {
   "cell_type": "code",
   "execution_count": 1,
   "metadata": {},
   "outputs": [
    {
     "name": "stdout",
     "output_type": "stream",
     "text": [
      "math marks out 0f 100:  90\n",
      "phy marks out 0f 100:  80\n",
      "chem marks out 0f 100:  67\n",
      "comp marks out 0f 100:  90\n",
      "urdu marks out 0f 100:  40\n",
      "total marks\n",
      "500\n",
      "obtain marks\n",
      "367\n",
      "percentage\n",
      "73.4\n"
     ]
    }
   ],
   "source": [
    "math=int(input(\"math marks out 0f 100:  \"))\n",
    "phy=int(input(\"phy marks out 0f 100:  \"))\n",
    "chem=int(input(\"chem marks out 0f 100:  \"))\n",
    "comp=int(input(\"comp marks out 0f 100:  \"))\n",
    "urdu=int(input(\"urdu marks out 0f 100:  \"))\n",
    "total=math+phy+chem+comp+urdu\n",
    "print(\"total marks\")\n",
    "print(\"500\")\n",
    "print(\"obtain marks\")\n",
    "print(total)\n",
    "print(\"percentage\")\n",
    "print((total/500)*100)\n"
   ]
  },
  {
   "cell_type": "code",
   "execution_count": 3,
   "metadata": {},
   "outputs": [
    {
     "name": "stdout",
     "output_type": "stream",
     "text": [
      "enter number 8\n",
      "number is even\n"
     ]
    }
   ],
   "source": [
    "a=int(input(\"enter number \"))\n",
    "if a%2==0:\n",
    "    print(\"number is even\")\n",
    "else:\n",
    "    print(\"number is odd\")"
   ]
  },
  {
   "cell_type": "code",
   "execution_count": 4,
   "metadata": {},
   "outputs": [
    {
     "name": "stdout",
     "output_type": "stream",
     "text": [
      "8\n"
     ]
    }
   ],
   "source": [
    "a=[1,2,3,4,5,6,7,8]\n",
    "x=len(a)\n",
    "print(x)"
   ]
  },
  {
   "cell_type": "code",
   "execution_count": 5,
   "metadata": {},
   "outputs": [
    {
     "name": "stdout",
     "output_type": "stream",
     "text": [
      "15\n"
     ]
    }
   ],
   "source": [
    "b=[1,2,3,4,5]\n",
    "y=sum(b)\n",
    "print(y)"
   ]
  },
  {
   "cell_type": "code",
   "execution_count": 6,
   "metadata": {},
   "outputs": [
    {
     "name": "stdout",
     "output_type": "stream",
     "text": [
      "90\n"
     ]
    }
   ],
   "source": [
    "c=[3,5,8,10,15,90]\n",
    "z=max(c)\n",
    "print(z)"
   ]
  },
  {
   "cell_type": "code",
   "execution_count": null,
   "metadata": {},
   "outputs": [],
   "source": []
  }
 ],
 "metadata": {
  "kernelspec": {
   "display_name": "Python 3",
   "language": "python",
   "name": "python3"
  },
  "language_info": {
   "codemirror_mode": {
    "name": "ipython",
    "version": 3
   },
   "file_extension": ".py",
   "mimetype": "text/x-python",
   "name": "python",
   "nbconvert_exporter": "python",
   "pygments_lexer": "ipython3",
   "version": "3.7.4"
  }
 },
 "nbformat": 4,
 "nbformat_minor": 2
}
