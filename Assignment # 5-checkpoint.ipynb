{
 "cells": [
  {
   "cell_type": "code",
   "execution_count": 28,
   "metadata": {},
   "outputs": [
    {
     "name": "stdout",
     "output_type": "stream",
     "text": [
      "enter number 3\n",
      "6\n"
     ]
    }
   ],
   "source": [
    "\n",
    "\n",
    "def factorial (num):\n",
    "    fact=1\n",
    "    for i in range(1,num+1):\n",
    "        fact=fact *i\n",
    "    print  (fact )\n",
    "        \n",
    "num=int (input (\"enter number \"))\n",
    "factorial (num)\n"
   ]
  },
  {
   "cell_type": "code",
   "execution_count": 31,
   "metadata": {},
   "outputs": [
    {
     "name": "stdout",
     "output_type": "stream",
     "text": [
      "Enter string:Adnan\n",
      "The number of lowercase is: 4\n",
      "The number of uppercase is: 1\n"
     ]
    }
   ],
   "source": [
    "\n",
    "def lowerupper(string):\n",
    "    c=0\n",
    "    n=0\n",
    "    for i in string:\n",
    "        if(i.islower()):\n",
    "            c=c+1\n",
    "        elif(i.isupper()):\n",
    "            n=n+1\n",
    "\n",
    "        \n",
    "    print(\"The number of lowercase is: {}\".format(c))\n",
    "    print(\"The number of uppercase is: {}\".format (n))\n",
    "\n",
    "string=input(\"Enter string:\")\n",
    "lowerupper (string)\n"
   ]
  },
  {
   "cell_type": "code",
   "execution_count": 32,
   "metadata": {},
   "outputs": [
    {
     "name": "stdout",
     "output_type": "stream",
     "text": [
      "2 is even number\n",
      "4 is even number\n",
      "6 is even number\n",
      "88 is even number\n",
      "10 is even number\n"
     ]
    }
   ],
   "source": [
    "def even (a):\n",
    "    for i in a:\n",
    "        if i%2 == 0:\n",
    "            print(\"{} is even number\".format(i))\n",
    "a=[2,3,4,6,88,9,10]\n",
    "even (a)"
   ]
  },
  {
   "cell_type": "code",
   "execution_count": 33,
   "metadata": {},
   "outputs": [
    {
     "name": "stdout",
     "output_type": "stream",
     "text": [
      "madam\n",
      "It is a palindrome\n"
     ]
    }
   ],
   "source": [
    "\n",
    "def palindrome(a):\n",
    "    if a == a[::-1]:\n",
    "        print(\"It is a palindrome\")\n",
    "    else:\n",
    "        print(\"It is not a palindrome\")\n",
    "a=input ()\n",
    "palindrome(a)"
   ]
  },
  {
   "cell_type": "code",
   "execution_count": 34,
   "metadata": {},
   "outputs": [
    {
     "name": "stdout",
     "output_type": "stream",
     "text": [
      "3\n",
      "3 is a prime number\n"
     ]
    }
   ],
   "source": [
    "def primenumber(num):\n",
    "    count = 0\n",
    "    if num == 2:\n",
    "        print(num,\"is a prime number\")\n",
    "    elif num == 1:\n",
    "        print(num,\"is not a prime number\")\n",
    "    elif num > 1:\n",
    "        for i in range(2,num+1):\n",
    "            if (num%i)==0:\n",
    "                count +=1\n",
    "    if count == 1:\n",
    "        print(num,\"is a prime number\")\n",
    "    else:\n",
    "        print(num,\"is not a prime number\")\n",
    "\n",
    "num = int(input())\n",
    "primenumber(num)"
   ]
  },
  {
   "cell_type": "code",
   "execution_count": 36,
   "metadata": {},
   "outputs": [
    {
     "name": "stdout",
     "output_type": "stream",
     "text": [
      "banana\n",
      "cake\n",
      "cock\n",
      "tomato\n",
      "rice\n",
      "national masala\n",
      "potato\n",
      "coconut\n"
     ]
    }
   ],
   "source": [
    "def shopping(*list):\n",
    "    for i in list:\n",
    "        print(i)\n",
    "\n",
    "shopping(\"banana\",\"cake\",\"cock\",\"tomato\",\"rice\",\"national masala\",\"potato\",\"coconut\")"
   ]
  },
  {
   "cell_type": "code",
   "execution_count": null,
   "metadata": {},
   "outputs": [],
   "source": []
  }
 ],
 "metadata": {
  "kernelspec": {
   "display_name": "Python 3",
   "language": "python",
   "name": "python3"
  },
  "language_info": {
   "codemirror_mode": {
    "name": "ipython",
    "version": 3
   },
   "file_extension": ".py",
   "mimetype": "text/x-python",
   "name": "python",
   "nbconvert_exporter": "python",
   "pygments_lexer": "ipython3",
   "version": "3.7.2"
  }
 },
 "nbformat": 4,
 "nbformat_minor": 2
}
