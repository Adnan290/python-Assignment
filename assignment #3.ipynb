{
 "cells": [
  {
   "cell_type": "code",
   "execution_count": 3,
   "metadata": {},
   "outputs": [
    {
     "name": "stdout",
     "output_type": "stream",
     "text": [
      "enter first value 3\n",
      "enter operator /\n",
      "enter second value 9\n",
      "ans is  0.3333333333333333\n"
     ]
    }
   ],
   "source": [
    "val1=int(input(\"enter first value \"))\n",
    "operator=input(\"enter operator \")\n",
    "val2=int(input(\"enter second value \"))\n",
    "\n",
    "if operator=='+':\n",
    "    val=val1+val2\n",
    "    print(\"ans is \",val)\n",
    "elif operator=='-':\n",
    "    val=val1-val2\n",
    "    print(\"ans is \",val)\n",
    "elif operator=='*':\n",
    "    val=val1*val2\n",
    "    print(\"ans is \",val)\n",
    "elif operator=='/':\n",
    "    val=val1/val2\n",
    "    print(\"ans is \",val)\n",
    "elif operator=='**':\n",
    "    val=val1**val2\n",
    "    print(\"ans is \",val)\n",
    "else:\n",
    "    print(\"invalid\")"
   ]
  },
  {
   "cell_type": "code",
   "execution_count": 5,
   "metadata": {},
   "outputs": [
    {
     "name": "stdout",
     "output_type": "stream",
     "text": [
      "this is numeric value 2\n",
      "this is numeric value 4\n"
     ]
    }
   ],
   "source": [
    "array=[2,'adnan','ghous',4,'ahmed']\n",
    "for a in array:\n",
    "    if type(a)==type(int()):\n",
    "        print(\"this is numeric value\",a)\n"
   ]
  },
  {
   "cell_type": "code",
   "execution_count": 15,
   "metadata": {},
   "outputs": [
    {
     "name": "stdout",
     "output_type": "stream",
     "text": [
      "enter key4\n",
      "enter valueahmed\n",
      "{2: 'adnan', 3: 'ovais', 4: 'ahmed'}\n"
     ]
    }
   ],
   "source": [
    "dictionary={2:\"adnan\",3:\"ovais\"}\n",
    "x=int(input(\"enter key\"))\n",
    "y=input(\"enter value\")\n",
    "\n",
    "dictionary[x]=y;\n",
    "\n",
    "print(dictionary)\n"
   ]
  },
  {
   "cell_type": "code",
   "execution_count": 16,
   "metadata": {},
   "outputs": [
    {
     "name": "stdout",
     "output_type": "stream",
     "text": [
      "455\n"
     ]
    }
   ],
   "source": [
    "num=[]\n",
    "customer={4:'adnan',6:'ovais','ahmed':420,'topy':25}\n",
    "for each_key, each_value in customer.items():\n",
    "    if type(each_key)==type(int()):\n",
    "        num.append(each_key)\n",
    "    elif type(each_value)==type(int()):\n",
    "        num.append(each_value)\n",
    "print(sum(num))\n",
    "        "
   ]
  },
  {
   "cell_type": "code",
   "execution_count": 24,
   "metadata": {},
   "outputs": [
    {
     "name": "stdout",
     "output_type": "stream",
     "text": [
      "dublicat in list adnan\n",
      "dublicat in list ahmed\n"
     ]
    }
   ],
   "source": [
    "a=['adnan','ahmed','ghous','topy','ahmed','adnan']\n",
    "for i in a:\n",
    "    a.remove(i)\n",
    "    for j in a:\n",
    "        if i==j:\n",
    "            print(\"dublicat in list\",i)\n",
    "        \n",
    "    \n",
    "        "
   ]
  },
  {
   "cell_type": "code",
   "execution_count": 28,
   "metadata": {},
   "outputs": [
    {
     "name": "stdout",
     "output_type": "stream",
     "text": [
      "enter keyb\n",
      "key is already exist\n"
     ]
    }
   ],
   "source": [
    "dic={'a':2,'b':3,'c':4,'d':5}\n",
    "k=input(\"enter key\")\n",
    "for key in dic.keys():\n",
    "    if k==key:\n",
    "        print(\"key is already exist\")\n",
    "    "
   ]
  },
  {
   "cell_type": "code",
   "execution_count": null,
   "metadata": {},
   "outputs": [],
   "source": []
  }
 ],
 "metadata": {
  "kernelspec": {
   "display_name": "Python 3",
   "language": "python",
   "name": "python3"
  },
  "language_info": {
   "codemirror_mode": {
    "name": "ipython",
    "version": 3
   },
   "file_extension": ".py",
   "mimetype": "text/x-python",
   "name": "python",
   "nbconvert_exporter": "python",
   "pygments_lexer": "ipython3",
   "version": "3.7.4"
  }
 },
 "nbformat": 4,
 "nbformat_minor": 2
}
